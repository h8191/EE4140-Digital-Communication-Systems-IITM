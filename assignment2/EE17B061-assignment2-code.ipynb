{
 "cells": [
  {
   "cell_type": "code",
   "execution_count": 1,
   "metadata": {
    "id": "sVYKxfkdQsEF"
   },
   "outputs": [],
   "source": [
    "import time\n",
    "import numpy as np\n",
    "import matplotlib.pyplot as plt"
   ]
  },
  {
   "cell_type": "markdown",
   "metadata": {
    "id": "9VikpZEPPi1K"
   },
   "source": [
    "Common code for all questions"
   ]
  },
  {
   "cell_type": "code",
   "execution_count": 2,
   "metadata": {
    "id": "ueuuzUv6QsEI"
   },
   "outputs": [],
   "source": [
    "def accuracy(x,y):\n",
    "    '''To measure SER using accuracy'''\n",
    "    return (x == y).mean()\n",
    "\n",
    "def progress_bar(a,b,ET='NA'):\n",
    "    if not ET is 'NA':\n",
    "        ET = (b-a)*ET/(a+0.0001)\n",
    "        ET = int(ET*10)/10\n",
    "    return print('\\rETime left {4}s [{2}] completed {0}/{1} = {3:.1f}%'.format(\n",
    "                        a,b,'*'*a + '.'*(b-a),100*a/b,ET),end='\\t')\n",
    "\n",
    "def gen_rand_base4(n):\n",
    "    '''generate array of n symbols each symbol can be [0,3] with probab 0.25'''\n",
    "    np.random.randint(low=0,high=4,size=n)\n",
    "\n",
    "def PAM4gen(n,sigma_I=1):\n",
    "    '''\n",
    "    generate I(k) ~ Unif( -3d, -d, d, 3d); d  = sqrt(1/5)\n",
    "    generate -3 -1 1 3 randomly scaled by 1/5\n",
    "    x = 0 1 2 3    y = 2x-3 = -3 -1 1 3\n",
    "    I = y/root(5) = 0.4x - 0.6'''\n",
    "    rand0_3 = np.random.randint(low=0,high=4,size=n)\n",
    "    return base4toPAM4(rand0_3,sigma_I)\n",
    "\n",
    "def base4toPAM4(x,sigma_I=1):\n",
    "    '''map [0,1,2,3] to [-3*d,-d,d,3*d]'''\n",
    "    d   = np.sqrt(sigma_I/5)\n",
    "    a,b = 2*d,3*d\n",
    "    return a*x - b\n",
    "\n",
    "def PAM4tobase4(x,sigma_I=1):\n",
    "    '''map [-3*d,-d,d,3*d] to [0,1,2,3]'''\n",
    "    d   = np.sqrt(sigma_I/5)\n",
    "    a,b = 2*d,3*d\n",
    "    return (x + b)/a"
   ]
  },
  {
   "cell_type": "markdown",
   "metadata": {
    "id": "PdVk0NdiBezj"
   },
   "source": [
    "Common code for all questions"
   ]
  },
  {
   "cell_type": "code",
   "execution_count": 3,
   "metadata": {
    "id": "4xs5vEipQsEK"
   },
   "outputs": [],
   "source": [
    "f_chnl0       = np.array([0.8,-1,0.6])/np.sqrt(2)#channel through which message is sent\n",
    "PAM4_alphabet = base4toPAM4(np.arange(4))# array of possible PAM4 symbols\n",
    "init_pad      = PAM4_alphabet[[0,0]]     # the initial memory of channel is assumed as (-3*d,-3*d)\n",
    "\n",
    "def channel_out(x,f_chnl=f_chnl0,init_pad=init_pad):\n",
    "    '''function to calculate the output of a filter'''\n",
    "    x = np.hstack(( init_pad,x ))\n",
    "    z = np.convolve(x,f_chnl)\n",
    "    z = z[len(init_pad):len(z)-len(f_chnl)+1]\n",
    "    return z\n",
    "\n",
    "def nearest_symbol(x):\n",
    "    '''return the nearest valid PAM4 symbol'''\n",
    "    dist = np.abs(x - PAM4_alphabet.reshape(-1,1))\n",
    "    ii   = np.argmin(dist,axis=0)\n",
    "    return PAM4_alphabet[ii]"
   ]
  },
  {
   "cell_type": "markdown",
   "metadata": {
    "id": "O56BQ-e31ewg"
   },
   "source": [
    "energy of channel = (0.8 x 0.8 + 1 x 1 + 0.6 x 0.6)/2 = 2/2 = 1\n",
    "\n",
    "variance(I(k)     = 1\n",
    "\n",
    "SNR = (energy of the channel * variance(I)/noise_variance)\n",
    "\n",
    "=>SNR = 1*1/noise_variance\n",
    "\n",
    "=>noise_variance = 1/SNR"
   ]
  },
  {
   "cell_type": "markdown",
   "metadata": {
    "id": "eAUP6BpZPuyX"
   },
   "source": [
    "# a) Viterbi Algorithm"
   ]
  },
  {
   "cell_type": "code",
   "execution_count": 4,
   "metadata": {
    "id": "Cfj3yQAuQsEQ"
   },
   "outputs": [],
   "source": [
    "class viterbi_decoder(object):\n",
    "    def __init__(self,f_chnl=f_chnl0,tail_bits=PAM4_alphabet[[0,0]],init_pad=PAM4_alphabet[[0,0]]):\n",
    "        self.L_chnl      = len(f_chnl)      #length of the channel\n",
    "        self.mem         = self.L_chnl - 1  # memory of the channel\n",
    "        self.f_chnl      = f_chnl           # coefficients of the channel\n",
    "        self.tail_bits   = tail_bits        # tails bits for viterbi algorithm\n",
    "        self.init_pad    = init_pad         # initial L-1 bits stored in the channel\n",
    "\n",
    "    def trellis_gen(self,rseq):\n",
    "        '''function to generate the trellis and fill the cumulative metrics'''\n",
    "\n",
    "        init_memory = tuple(self.init_pad)  # initial L-1 bits stored in the channel\n",
    "        stage_0       = {init_memory:[0,-1]}# first stage of the trellis\n",
    "        stages        = [stage_0] + [dict() for i in range(len(rseq))]#create an empty trellis\n",
    "        f_chnl_part   = self.f_chnl[1:]     #last L-1 coefficients of channel\n",
    "        \n",
    "        for stage_index in range(len(rseq)):#for loop to compute the metrics of next stage\n",
    "            r_true    = rseq[stage_index]\n",
    "            nxt_stage = stages[stage_index+1] \n",
    "            \n",
    "            tail_index = stage_index - len(rseq) + self.mem\n",
    "            tmp_alphabet = PAM4_alphabet if tail_index<0 else [self.tail_bits[tail_index]]#to constrain the trellis for tail symbols\n",
    "            \n",
    "            for memory,cm in stages[stage_index].items():\n",
    "                transition_metric_part0 = r_true - np.matmul(f_chnl_part,memory)#partial computation of transition metric for efficiency\n",
    "                for jPAM4 in tmp_alphabet:\n",
    "                    tmp_memory           = (jPAM4, *memory[:-1])                    \n",
    "                    tmp_cm               = cm[0] + (transition_metric_part0 - self.f_chnl[0]*jPAM4)**2##cumulative metric calc\n",
    "                    if nxt_stage.get(tmp_memory,[1e23,-1])[0] > tmp_cm:##choosing the node which gives the min cumulative metric\n",
    "                        nxt_stage[tmp_memory] = [tmp_cm,memory[-1]]##[cumulative metric,survivor in previous stage]\n",
    "        return stages\n",
    "         \n",
    "    def decode_inf_delay(self,rseq):\n",
    "        '''infinite delay Viterbi Algorithm equivalent to MMSE'''\n",
    "        '''rseq = [r(0) r(1)  ... r(k-2) r(k-1) r(k)]'''\n",
    "        stages = self.trellis_gen(rseq)#compute all stages in the trellis\n",
    "        msg = np.zeros(len(rseq))\n",
    "        symb_index = len(rseq)-1\n",
    "        \n",
    "        #find the node in the last stage with minimum cumulative metric\n",
    "        #will have only one node in the last stage since we are using known tail symbols\n",
    "        min_key = -1\n",
    "        min_cm  = float('inf')\n",
    "        for k,v in stages[-1].items():\n",
    "            if min_cm > v[0]:\n",
    "                min_key, min_cm = k, v[0]\n",
    "          \n",
    "        curr_memory = min_key\n",
    "        for stage_index in range(len(stages)-1,0,-1):#traversing backward along the survivor sequence\n",
    "            msg[symb_index] = (curr_memory[0])\n",
    "            curr_memory = (*curr_memory[1:],stages[stage_index][curr_memory][1])#find the previous symbol in the suvivor sequence\n",
    "            symb_index -= 1\n",
    "        return np.array(msg), min_cm\n",
    "    \n",
    "    def decode_finite_delay(self,stages,delta):\n",
    "        msg = np.zeros(len(stages)-1)\n",
    "        \n",
    "        #decoding the first N-Delta symbols of the sequence using fintie delay decoding\n",
    "        for symb_index in range(len(stages)-1-delta):\n",
    "            min_key = -1\n",
    "            min_cm  = float('inf')\n",
    "            for k,v in stages[symb_index + delta + 1].items():\n",
    "                if min_cm > v[0]:\n",
    "                    min_key = k\n",
    "                    min_cm  = v[0]\n",
    "\n",
    "            curr_memory = min_key\n",
    "            for stage_index in range(symb_index + delta + 1,symb_index+1,-1):\n",
    "                curr_memory = (*curr_memory[1:],stages[stage_index][curr_memory][1])\n",
    "            msg[symb_index] = curr_memory[0]\n",
    "        \n",
    "        #decoding the last Delta symbols using infinite delay decoding\n",
    "        min_key = -1\n",
    "        min_cm  = float('inf')\n",
    "        for k,v in stages[-1].items():\n",
    "            if min_cm > v[0]:\n",
    "                min_key, min_cm = k, v[0]\n",
    "          \n",
    "        curr_memory = min_key\n",
    "        for stage_index in range(len(stages)-1,max(len(stages)-1-delta,0),-1):\n",
    "            msg[stage_index-1] = (curr_memory[0])\n",
    "            curr_memory = (*curr_memory[1:],stages[stage_index][curr_memory][1])\n",
    "        return np.array(msg), min_cm\n",
    "    \n",
    "    def transition_metric(self,r_true,tap_delay_line):\n",
    "        '''redundant function'''\n",
    "        return (r_true - np.matmul(self.f_chnl,tap_delay_line))**2"
   ]
  },
  {
   "cell_type": "markdown",
   "metadata": {
    "id": "-cJdmjLu9NOH"
   },
   "source": [
    "Viterbi algorithm takes about 5-8 mins(depending on PC) to compute SER for\n",
    "all 36 combinations of noise variance and Delta\n",
    "\n",
    "check the progress bar for time left\n"
   ]
  },
  {
   "cell_type": "code",
   "execution_count": 27,
   "metadata": {
    "colab": {
     "base_uri": "https://localhost:8080/"
    },
    "id": "awuNPhz5QsEZ",
    "outputId": "fc35e1ff-b7d0-4184-894d-b9f58f0d633e"
   },
   "outputs": [
    {
     "name": "stdout",
     "output_type": "stream",
     "text": [
      "\n",
      "ETime left 0.0s [*********] completed 9/9 = 100.0%\t\t\n",
      "time for 100002 symbols = 332.37 secs = 5.539 mins\n"
     ]
    }
   ],
   "source": [
    "time1 = time.time()\n",
    "\n",
    "Delta_arr    = [3,6,15,30]\n",
    "SNR_arr      = 10**(np.arange(0,16.001,2)/10)\n",
    "sigma_v2_arr = 1/SNR_arr                # noise variance = 1/SNR\n",
    "sigma_v_arr  = np.sqrt(sigma_v2_arr)    # noise standard deviation = sqrt(noise variance)\n",
    "tail_bits    = PAM4_alphabet[[1,2]]     # known tail bits(symbols) for the viterbi algorithm can be changed manually here\n",
    "init_pad     = np.array([0,0])#PAM4_alphabet[[0,0]] #initial memory of the channel\n",
    "\n",
    "viterbi0 = viterbi_decoder(f_chnl0,tail_bits,init_pad)\n",
    "\n",
    "msg_PAM4  = PAM4gen(100000)## generate I(k) ~ Unif(-3*d,-d,d,3*d); d = sqrt(1/5)\n",
    "msg_PAM4  = np.hstack([msg_PAM4, tail_bits])#add known tail bits\n",
    "\n",
    "tx_seq    = channel_out(msg_PAM4,f_chnl0,init_pad)#output of the channel without noise\n",
    "SER_VA    = np.zeros(( len(Delta_arr),len(sigma_v_arr) ))\n",
    "\n",
    "display_progress = 1\n",
    "print()\n",
    "if display_progress: progress_bar(0,len(sigma_v_arr))\n",
    "for ind_sigma_v,sigma_v in enumerate(sigma_v_arr):\n",
    "    noise     = np.random.randn(len(msg_PAM4))*sigma_v  #generate noise\n",
    "    rx_seq    = tx_seq + noise                          #add noise to channel output\n",
    "    trellis   = viterbi0.trellis_gen(rx_seq)# common trellis generation for different values of delta to simulate faster\n",
    "\n",
    "    for ind_Delta,Delta in enumerate(Delta_arr):#Decoding with different delays\n",
    "        est_seq = viterbi0.decode_finite_delay(trellis.copy(),Delta)[0]\n",
    "        SER_VA[ind_Delta][ind_sigma_v] = 1 - accuracy(msg_PAM4,est_seq)\n",
    "    if display_progress: progress_bar(ind_sigma_v+1,len(sigma_v_arr),time.time()-time1)\n",
    "    \n",
    "time2 = time.time()\n",
    "print('\\ntime for {} symbols = {:.2f} secs = {:.3f} mins'.format(len(msg_PAM4),time2-time1,(time2-time1)/60))"
   ]
  },
  {
   "cell_type": "code",
   "execution_count": 6,
   "metadata": {
    "colab": {
     "base_uri": "https://localhost:8080/",
     "height": 462
    },
    "id": "JMaSxYn1DVFf",
    "outputId": "a311fa87-7cbd-4e50-f0d1-96a12949e0a9"
   },
   "outputs": [
    {
     "data": {
      "image/png": "[encoded data removed]",
      "text/plain": [
       "<Figure size 576x504 with 1 Axes>"
      ]
     },
     "metadata": {
      "needs_background": "light"
     },
     "output_type": "display_data"
    }
   ],
   "source": [
    "plt.figure(figsize=(8,7))\n",
    "plt.title('figure 1: 1og10(SER) vs 10log10(SNR)')\n",
    "for ind_i,Delta in enumerate(Delta_arr):\n",
    "    # plt.plot(10*np.log10(SNR_arr),SER_VA[ind_i]*100,label='Delta = %d'%(Delta))\n",
    "    plt.plot(10*np.log10(SNR_arr),np.log10(SER_VA[ind_i]),label='Delta = %d'%(Delta))\n",
    "plt.xlabel('$10log_{10}(SNR)$')\n",
    "plt.ylabel('$log_{10}(SER)$')\n",
    "plt.legend()\n",
    "plt.grid()\n",
    "plt.savefig('figure1')"
   ]
  },
  {
   "cell_type": "code",
   "execution_count": 7,
   "metadata": {
    "colab": {
     "base_uri": "https://localhost:8080/"
    },
    "id": "xAkzr8rWDdxh",
    "outputId": "f58944ca-74c3-46ca-f518-d9da8201a69d"
   },
   "outputs": [
    {
     "name": "stdout",
     "output_type": "stream",
     "text": [
      "True\n",
      "[2.99940012e-04 9.99800040e-05 0.00000000e+00 9.99800040e-05\n",
      " 0.00000000e+00 1.99960008e-04 5.99880024e-04 1.99960008e-04\n",
      " 4.99900020e-04] 0.0005998800239952473\n"
     ]
    }
   ],
   "source": [
    "'''Check if the SER of Delta = 15 and Delta =30 are equal'''\n",
    "print(np.allclose(SER_VA[2],SER_VA[3],atol=1e-3))#check if max difference is  < 0.1 percent \n",
    "print(np.abs(SER_VA[2]-SER_VA[3]),np.abs(SER_VA[2]-SER_VA[3]).max())"
   ]
  },
  {
   "cell_type": "markdown",
   "metadata": {
    "id": "pi7q6k0DSbAU"
   },
   "source": [
    "**SER values for Delta = 15 and Delta = 30 are almost same** at every SNR\n",
    "\n",
    "max difference between SER(Delta = 15) and SER(Delta = 30) is **0.09** percent\n",
    "\n",
    "so for any value of Delta >= 15 the SER is almost same at every SNR\n",
    "\n",
    "**SER(Delta = 3) > SER(Delta = 10) > SER(Delta = 15) = SER(Delta = 30)** at every SNR\n",
    "\n",
    "SER decreases(monotonically) with increasing Delta at every SNR\n",
    "\n",
    "SER decreases with increasing SNR for every Delta\n",
    "\n",
    "difference in SER is more clear at high SNR\n"
   ]
  },
  {
   "cell_type": "markdown",
   "metadata": {
    "id": "xSvWlQqcFZ74"
   },
   "source": [
    "**Linear MMSE Equalizer**"
   ]
  },
  {
   "cell_type": "code",
   "execution_count": 8,
   "metadata": {
    "id": "FQN1FSy7LO0c"
   },
   "outputs": [],
   "source": [
    "def nearest_symbol(x):\n",
    "    dist = np.abs(x - PAM4_alphabet.reshape(-1,1))\n",
    "    ii   = np.argmin(dist,axis=0)\n",
    "    return PAM4_alphabet[ii]\n",
    "    \n",
    "def R_fxn(N,sigma_v2,f_chnl=f_chnl0):\n",
    "    '''Calculate R Autocorrelation matrix for LMMSE equalizer'''\n",
    "    if N>len(f_chnl):\n",
    "        f_chnl = np.hstack([f_chnl,np.zeros(N-len(f_chnl))])\n",
    "    f_chnl = f_chnl[:N]\n",
    "    row = [(f_chnl[i:]*f_chnl[:N-i]).sum() for i in range(N)]\n",
    "    R   = np.diag(np.full(N,fill_value=sigma_v2))\n",
    "    for i in range(N):\n",
    "        i1 = N -i\n",
    "        for j in range(i1):\n",
    "            R[j][j+i] = R[j+i][j] = R[j+i][j] + row[i]\n",
    "    return R\n",
    "\n",
    "def P_fxn(N,Delta,f_chnl=f_chnl0):\n",
    "    '''Calculate P for LMMSE equalizer'''\n",
    "    L = len(f_chnl)\n",
    "    P = np.zeros(N)\n",
    "    for i in range(N):\n",
    "        j = Delta - i\n",
    "        if j >=0 and j<=L-1:\n",
    "            P[i] = f_chnl[j]\n",
    "    return P"
   ]
  },
  {
   "cell_type": "code",
   "execution_count": 9,
   "metadata": {
    "id": "jVzUBBQeHPLK"
   },
   "outputs": [],
   "source": [
    "f_chnl0 = np.array([0.8,-1,0.6])/np.sqrt(2)\n",
    "sigma_I = 1 ##variance of msg signal = var[I(k)]\n",
    "PAM4_alphabet = base4toPAM4(np.arange(4),sigma_I=sigma_I)\n",
    "init_pad      = np.array([0,0])#PAM4_alphabet[[0,0]] ##Initial memory(L-1 bits) stored in the channel\n",
    "\n",
    "SNR  = 10#( in dB)\n",
    "SNR  = 10**(SNR/10)\n",
    "sigma_v2 = 1/SNR\n",
    "sigma_v  = np.sqrt(sigma_v2)\n",
    "msg_PAM4 = PAM4gen(int(1e5),sigma_I=sigma_I)\n",
    "tx_seq   = channel_out(msg_PAM4, f_chnl0, init_pad)       #noiseless output of channel\n",
    "rx_seq   = tx_seq + sigma_v*np.random.randn(len(msg_PAM4))#add noise with SNR 10dB to the channel output"
   ]
  },
  {
   "cell_type": "markdown",
   "metadata": {
    "id": "zRUvIGVORtcb"
   },
   "source": [
    "**B1, B2, B3**"
   ]
  },
  {
   "cell_type": "code",
   "execution_count": 10,
   "metadata": {
    "colab": {
     "base_uri": "https://localhost:8080/"
    },
    "id": "M_7KIsmSQsEf",
    "outputId": "7cc2e55f-f7fd-4a8d-9b76-458d5dcfd3ac"
   },
   "outputs": [
    {
     "name": "stdout",
     "output_type": "stream",
     "text": [
      "N = 3, Delta = 0\n",
      "Jmin simulated   0.4606\n",
      "Jmin theoritical 0.4577\n",
      "w_opt: [0.95869858 0.80157854 0.30092483]\n",
      "\n",
      "N = 10, Delta = 0\n",
      "Jmin simulated   0.4482\n",
      "Jmin theoritical 0.4447\n",
      "w_opt: [ 0.98162681  0.84173676  0.31296526 -0.08206659 -0.20034628 -0.13712618\n",
      " -0.03402374  0.02698237  0.03503563  0.01640834]\n",
      "\n",
      "N = 10, Delta = 5\n",
      "Jmin simulated   0.3380\n",
      "Jmin theoritical 0.3369\n",
      "w_opt: [ 0.05175672  0.18258482  0.29532074  0.17546218 -0.36100637  0.58939739\n",
      "  0.64385394  0.30512781  0.01904098 -0.05445636]\n",
      "\n"
     ]
    }
   ],
   "source": [
    "N,Delta = 3,0\n",
    "for (N,Delta) in [(3,0),(10,0),(10,5)]:\n",
    "    R,P        = R_fxn(N,sigma_v2,f_chnl0), P_fxn(N,Delta,f_chnl0)  #calculate \n",
    "    R_inv      = np.linalg.inv(R)\n",
    "    W_opt      = np.matmul(R_inv,P)\n",
    "    W_opt_flat = W_opt.ravel()# flattened view of W_opt\n",
    "\n",
    "    est_msg    = channel_out(rx_seq,W_opt_flat)\n",
    "    Jmin       = np.square(msg_PAM4[:len(msg_PAM4)-Delta] - est_msg[Delta:]).mean()\n",
    "    print('N = {}, Delta = {}'.format(N,Delta))\n",
    "    print('Jmin simulated   {:.4f}\\nJmin theoritical {:.4f}'.format(Jmin, sigma_I**2 - np.matmul(W_opt_flat,P) ))\n",
    "    print('w_opt:',W_opt_flat)\n",
    "    print()"
   ]
  },
  {
   "cell_type": "markdown",
   "metadata": {
    "id": "w3_1i9INfCDO"
   },
   "source": [
    "**B4**"
   ]
  },
  {
   "cell_type": "markdown",
   "metadata": {
    "id": "3ANPqMIWOw9K"
   },
   "source": [
    "calculated **Jmin(N,Delta)** varying **N from 2 to 40 and Delta from 0 to 40**.\n",
    "\n",
    "since N = 1(memory less equalizer) is just scaling the signal it is not considered"
   ]
  },
  {
   "cell_type": "code",
   "execution_count": 11,
   "metadata": {
    "id": "_8ubm5FEOGCO"
   },
   "outputs": [],
   "source": [
    "N_max = 40 + 1\n",
    "Jmin_arr  = np.full(( N_max,N_max ),fill_value=3.0)\n",
    "for N in range(2,N_max):\n",
    "    for Delta in range(N_max):\n",
    "         R,P            = R_fxn(N,sigma_v2,f_chnl0), P_fxn(N,Delta,f_chnl0) \n",
    "         W_opt_flat     = np.matmul(np.linalg.inv(R),P).ravel()\n",
    "         Jmin_arr[N][Delta] = sigma_I**2 - W_opt_flat @ P\n"
   ]
  },
  {
   "cell_type": "code",
   "execution_count": 12,
   "metadata": {
    "colab": {
     "base_uri": "https://localhost:8080/",
     "height": 476
    },
    "id": "EvTWqUVrQqrt",
    "outputId": "cc503307-426d-49b6-d39a-b8c6b6d67c7b"
   },
   "outputs": [
    {
     "name": "stdout",
     "output_type": "stream",
     "text": [
      "0.33145583339352125\n",
      "N values and the Delta for which Jmin is optimal\n",
      "[[ 2  3  4  5  6  7  8  9 10 11 12 13 14 15 16 17 18 19 20 21 22 23 24 25\n",
      "  26 27 28 29 30 31 32 33 34 35 36 37 38 39 40]\n",
      " [ 1  1  1  1  3  4  4  4  4  5  5  6  7  8  9  8  8  9  9 11 11 12 12 12\n",
      "  12 12 14 15 15 16 15 16 16 16 18 19 19 19 19]]\n"
     ]
    },
    {
     "data": {
      "text/plain": [
       "<matplotlib.legend.Legend at 0x15902dfcda0>"
      ]
     },
     "execution_count": 12,
     "metadata": {},
     "output_type": "execute_result"
    },
    {
     "data": {
      "image/png": "[encoded data removed]",
      "text/plain": [
       "<Figure size 936x360 with 2 Axes>"
      ]
     },
     "metadata": {
      "needs_background": "light"
     },
     "output_type": "display_data"
    }
   ],
   "source": [
    "print(Jmin_arr.min())\n",
    "N_arr = np.arange(N_max)\n",
    "print('N values and the Delta for which Jmin is optimal')\n",
    "print(np.vstack([N_arr,Jmin_arr.argmin(axis=1)])[:,2:])\n",
    "\n",
    "plt.figure(figsize=(13,5))\n",
    "plt.subplot(121)\n",
    "plt.title('Jmin(N) = min over $\\Delta$ Jmin(N,$\\Delta$)')\n",
    "plt.plot(N_arr[2:],Jmin_arr.min(axis=1)[2:])\n",
    "plt.axvline(x=10,c='k',ls='--')\n",
    "plt.axhline(y=Jmin_arr[10].min(),c='k',ls='--')\n",
    "plt.grid()\n",
    "plt.xlabel('N - >')\n",
    "plt.ylabel('Jmin ->')\n",
    "\n",
    "plt.subplot(122)\n",
    "plt.title('$\\Delta$ that achieves Jmin')\n",
    "plt.plot(N_arr[2:],Jmin_arr.argmin(axis=1)[2:],label='Delta')\n",
    "plt.plot(N_arr[2:],N_arr[2:]/2,label='N/2')\n",
    "plt.axvline(x=10,c='k',ls='--')\n",
    "plt.axhline(y=Jmin_arr.argmin(axis=1)[10],c='k',ls='--')\n",
    "plt.xlabel('N ->')\n",
    "plt.ylabel('$\\Delta ->$')\n",
    "plt.grid()\n",
    "plt.legend()\n"
   ]
  },
  {
   "cell_type": "markdown",
   "metadata": {
    "id": "rWgU5OQoPYYh"
   },
   "source": [
    "The value of Delta which minimizes Jmin for a fixed N is close to N/2(right plot)\n",
    "\n",
    "From the above plots we can see that Jmin(N) decreases with N but almost saturates after N = 20\n",
    "\n",
    "**Jmin(N=10,Delta=4) = 0.3352;  Jmin(N=20,Delta=9) = 0.3315; Jmin(N=40,Delta=19) = 0.3314;**\n",
    "\n",
    "we can choose N=40,Delta=19 for optimal filter but the gain in performance compared is only 0.004(Decrease in Jmin)\n",
    "\n",
    " which is not worth 4 times the hardware complexity(from N = 10 to N = 40)\n",
    "\n",
    " **so N = 10,Delta =4 is chosen as the optimal filter**"
   ]
  },
  {
   "cell_type": "code",
   "execution_count": 13,
   "metadata": {
    "colab": {
     "base_uri": "https://localhost:8080/"
    },
    "id": "GbeN6oJZTbqj",
    "outputId": "ca598f55-a3f4-4a29-c41f-a88f811f1bf2"
   },
   "outputs": [
    {
     "name": "stdout",
     "output_type": "stream",
     "text": [
      "0.33523140612210733 0.3315061922677629 0.33145583339352125 0.33145583339352125\n",
      "best possible Jmin is 0.33145583339352125\n",
      "Jmin for the optimal filter chosen is 0.33523140612210733\n"
     ]
    }
   ],
   "source": [
    "print(Jmin_arr[10][4],Jmin_arr[20][9],Jmin_arr[40][19],Jmin_arr.min())\n",
    "print('best possible Jmin is {}'.format(Jmin_arr.min()))\n",
    "print('Jmin for the optimal filter chosen is {}'.format(Jmin_arr[10][4]))"
   ]
  },
  {
   "cell_type": "code",
   "execution_count": 14,
   "metadata": {
    "colab": {
     "base_uri": "https://localhost:8080/"
    },
    "id": "vgJVF8w4fjRc",
    "outputId": "f0f0dff3-c75b-44df-a8d5-80d99dea118c"
   },
   "outputs": [
    {
     "name": "stdout",
     "output_type": "stream",
     "text": [
      "SER: [0.62013481 0.58667347 0.55173207 0.51562062 0.47720909 0.43437738\n",
      " 0.39318573 0.34569383 0.29795192] \n",
      "accuracy: [0.37986519 0.41332653 0.44826793 0.48437938 0.52279091 0.56562262\n",
      " 0.60681427 0.65430617 0.70204808]\n"
     ]
    }
   ],
   "source": [
    "N, Delta  = 10, 4\n",
    "#### N, Delta  = 20, 9\n",
    "#### N, Delta  = 60, 30    \n",
    "\n",
    "# SNR_arr   = np.logspace(0,16/10,9)\n",
    "SNR_arr     = 10**(np.arange(0,16.0001,2)/10)\n",
    "SER_LE      = np.zeros(len(SNR_arr))\n",
    "\n",
    "sigma_v2_arr  = 1/SNR_arr\n",
    "sigma_v_arr   = np.sqrt(sigma_v2_arr)\n",
    "\n",
    "msg_PAM4 = PAM4gen(int(1e5),sigma_I=sigma_I)\n",
    "tx_seq   = channel_out(msg_PAM4, f_chnl0, init_pad)\n",
    "\n",
    "for ind,sigma_v2 in enumerate(sigma_v2_arr):\n",
    "    sigma_v    = np.sqrt(sigma_v2)\n",
    "    R,P        = R_fxn(N,sigma_v2,f_chnl0), P_fxn(N,Delta,f_chnl0)\n",
    "    R_inv      = np.linalg.inv(R)\n",
    "    W_opt      = R_inv@P\n",
    "    W_opt_flat = W_opt.ravel()# flattened view of W_opt\n",
    "    \n",
    "    rx_seq     = tx_seq + sigma_v*np.random.randn(len(msg_PAM4))\n",
    "    est_msg    = channel_out(rx_seq,W_opt_flat)\n",
    "    est_msg    = nearest_symbol(est_msg)\n",
    "    msg_PAM4[:len(msg_PAM4)-Delta] - est_msg[Delta:]\n",
    "    SER_LE[ind] = 1 - accuracy(msg_PAM4[:len(msg_PAM4)-Delta], est_msg[Delta:])\n",
    "print('SER:',SER_LE,'\\naccuracy:',1-SER_LE)"
   ]
  },
  {
   "cell_type": "code",
   "execution_count": 15,
   "metadata": {
    "colab": {
     "base_uri": "https://localhost:8080/",
     "height": 372
    },
    "id": "Pqk37ylXfjEu",
    "outputId": "81eae023-4e9f-4e5e-8da9-6a55f89ad407"
   },
   "outputs": [
    {
     "data": {
      "text/plain": [
       "<matplotlib.legend.Legend at 0x15902fcdc88>"
      ]
     },
     "execution_count": 15,
     "metadata": {},
     "output_type": "execute_result"
    },
    {
     "data": {
      "image/png": "[encoded data removed]",
      "text/plain": [
       "<Figure size 432x360 with 1 Axes>"
      ]
     },
     "metadata": {
      "needs_background": "light"
     },
     "output_type": "display_data"
    }
   ],
   "source": [
    "plt.figure(figsize=(6,5))\n",
    "plt.title('figure 2.1: 1og10(SER) vs 10log10(SNR)')\n",
    "\n",
    "# plt.plot(10*np.log10(SNR_arr),SER_VA[3]*100, label='VA')\n",
    "# plt.plot(10*np.log10(SNR_arr),SER_LE*100,    label='LE')\n",
    "\n",
    "plt.plot(10*np.log10(SNR_arr),np.log10(SER_VA[3]),label='VA')\n",
    "plt.plot(10*np.log10(SNR_arr),np.log10(SER_LE)   ,label='LE')\n",
    "\n",
    "plt.xlabel('$10log_{10}(SNR)$')\n",
    "plt.ylabel('$log_{10}(SER)$')\n",
    "plt.grid()\n",
    "plt.legend()"
   ]
  },
  {
   "cell_type": "markdown",
   "metadata": {
    "id": "AgN_dPnrR89D"
   },
   "source": [
    "#Observations Linear Equalizer\n",
    "\n",
    "from the above plot we can see that VA with Delta = 30 is always signficantly better than optimal(almost) Linear Equalizer for any SNR\n",
    "\n",
    "Since **Viterbi Algorithm (Delta =30) has low SER than optimal LE(N=10,Delta=4) at every SNR(especially at high SNR)**\n",
    "\n",
    "SER difference between Optimal viterbi and Optimal LE is very high at high SNR"
   ]
  },
  {
   "cell_type": "markdown",
   "metadata": {
    "id": "rF4aP35ujiSR"
   },
   "source": [
    "#Decision Feedback Equalizer"
   ]
  },
  {
   "cell_type": "code",
   "execution_count": 16,
   "metadata": {
    "id": "26X1MPJ8GZFZ"
   },
   "outputs": [],
   "source": [
    "class filter(object):\n",
    "    '''simulates a filter with memory'''\n",
    "    def __init__(self,imp_res):\n",
    "        self.imp_res        = np.array(imp_res)\n",
    "        self.tap_delay_line = np.zeros(self.imp_res.shape)\n",
    "    \n",
    "    def out(self,input):\n",
    "        self.tap_delay_line[1:] = self.tap_delay_line[:-1]\n",
    "        self.tap_delay_line[0]  = input\n",
    "        return np.matmul(self.tap_delay_line,self.imp_res)\n",
    "\n",
    "class DFE(object):\n",
    "    def __init__(self,wff,wfb):\n",
    "        '''simulates decision feedback equalizer with the given coefficients'''\n",
    "        self.reset(wff,wfb)\n",
    "    \n",
    "    def reset(self,wff=None,wfb=None):\n",
    "        if not wff is None: self.wff = wff\n",
    "        if not wfb is None: self.wfb = wfb\n",
    "        self.ff  = filter(self.wff)\n",
    "        self.fb  = filter(self.wfb)\n",
    "        self.past_output = 0\n",
    "\n",
    "    def out(self,input):\n",
    "        tmp = self.ff.out(input) - self.fb.out(self.past_output)\n",
    "        tmp = self.nearest_symbol(tmp)\n",
    "        self.past_output = tmp\n",
    "        return tmp\n",
    "    \n",
    "    def seq_out(self,rx_seq):\n",
    "        tmp = np.zeros(len(rx_seq))\n",
    "        for i in range(len(tmp)):\n",
    "            tmp[i] = self.out(rx_seq[i])\n",
    "        return tmp\n",
    "\n",
    "    def nearest_symbol(self,x):\n",
    "        dist = np.abs(x - PAM4_alphabet.reshape(-1,1))\n",
    "        ii   = np.argmin(dist,axis=0)\n",
    "        return PAM4_alphabet[ii]\n",
    "\n",
    "# ff = filter([1,1,0])\n",
    "# for i in range(1,4):\n",
    "#     print(ff.out(i))"
   ]
  },
  {
   "cell_type": "code",
   "execution_count": 17,
   "metadata": {
    "id": "jN0iPFnOlEh6"
   },
   "outputs": [],
   "source": [
    "def corr_fxn2(i,j,f_chnl):\n",
    "    '''returns E[r(k-i) x I(k-j)]'''\n",
    "    #r(k-i) I(k-j)  j is less than equal to i\n",
    "    diff = j - i\n",
    "    if diff >=0 and diff<= len(f_chnl) - 1:\n",
    "        return f_chnl[diff]\n",
    "    return 0\n",
    "\n",
    "def R_fxn2(N1,N2,sigma_v2,f_chnl=f_chnl0):\n",
    "    '''R matrix for Decision Feedback Equalizer'''\n",
    "    A1 = R_fxn(N1,sigma_v2,f_chnl)\n",
    "    A4 = np.diag(np.full(N2,fill_value=1))\n",
    "    A2 = np.zeros(( N1,N2 ))\n",
    "    A3 = np.zeros(( N2,N1 ))\n",
    "\n",
    "    for i in range(N1):\n",
    "        for j in range(N2):\n",
    "            A3[j][i] = A2[i][j] = -corr_fxn2(i,Delta+1+j,f_chnl)\n",
    "    # print(A2,'\\n',A3)\n",
    "    return np.vstack([ np.hstack([A1,A2]), np.hstack([A3,A4]) ])\n",
    "\n",
    "def P_fxn2(N1,N2,Delta,f_chnl=f_chnl0):\n",
    "    '''P matrix for Decision Feedback Equailzer'''\n",
    "    L = len(f_chnl)\n",
    "    P = np.zeros(N1+N2)\n",
    "    for i in range(N1):\n",
    "        P[i] = corr_fxn2(i,Delta,f_chnl)#P[i] = E[r(k-i)I(k-Delta)]\n",
    "    return P"
   ]
  },
  {
   "cell_type": "code",
   "execution_count": 18,
   "metadata": {
    "id": "XEFl3TlRfi6s"
   },
   "outputs": [],
   "source": [
    "f_chnl0 = np.array([0.8,-1,0.6])/np.sqrt(2)\n",
    "sigma_I = 1 \n",
    "PAM4_alphabet = base4toPAM4(np.arange(4),sigma_I=sigma_I)\n",
    "init_pad = PAM4_alphabet[[0,0]]\n",
    "\n",
    "SNR  = 10#( in dB)\n",
    "SNR  = 10**(SNR/10)\n",
    "sigma_v2 = 1/SNR\n",
    "sigma_v  = np.sqrt(sigma_v2)\n",
    "msg_PAM4 = PAM4gen(int(1e5),sigma_I=sigma_I)\n",
    "# msg_PAM4 = PAM4gen(int(3e1),sigma_I=sigma_I)\n",
    "tx_seq   = channel_out(msg_PAM4, f_chnl0, init_pad)\n",
    "rx_seq   = tx_seq + sigma_v*np.random.randn(len(msg_PAM4))"
   ]
  },
  {
   "cell_type": "markdown",
   "metadata": {
    "id": "oR8SICt2IDxm"
   },
   "source": [
    "#C1 C2"
   ]
  },
  {
   "cell_type": "code",
   "execution_count": 19,
   "metadata": {
    "colab": {
     "base_uri": "https://localhost:8080/"
    },
    "id": "jsME2gfrfij8",
    "outputId": "d98b5132-0171-4fd7-afe5-392ba0f896c9"
   },
   "outputs": [
    {
     "name": "stdout",
     "output_type": "stream",
     "text": [
      "N1 = 6, N2 = 4, Delta = 0\n",
      "Jmin simulated   0.5738\n",
      "Jmin theoritical 0.2381\n",
      "w_opt: [ 1.34687006e+00  7.25080752e-16  1.99103042e-16  4.66147705e-17\n",
      "  3.66317007e-17  2.71738925e-17 -9.52380952e-01  5.71428571e-01\n",
      "  2.21935568e-16  8.33033345e-17]\n",
      "\n",
      "N1 = 6, N2 = 4, Delta = 3\n",
      "Jmin simulated   0.4443\n",
      "Jmin theoritical 0.1796\n",
      "w_opt: [ 6.07156583e-02 -2.99095927e-02 -3.65516413e-01  1.01585039e+00\n",
      " -2.15427018e-16  6.70935082e-16 -8.73390177e-01  4.30988818e-01\n",
      " -5.74628545e-16  3.05788119e-16]\n",
      "\n"
     ]
    }
   ],
   "source": [
    "N1,N2,Delta = 6,4,0\n",
    "for (N1,N2,Delta) in [(6,4,0),(6,4,3)]:\n",
    "    R,P        = R_fxn2(N1,N2,sigma_v2,f_chnl0), P_fxn2(N1,N2,Delta,f_chnl0)\n",
    "    R_inv      = np.linalg.inv(R)\n",
    "    W_opt      = np.matmul(R_inv,P)\n",
    "    W_opt_flat = W_opt.ravel()# flattened view of W_opt\n",
    "    W_ff,W_fb  = np.hsplit(W_opt_flat,[N1])\n",
    "    # print(W_ff,W_fb)\n",
    "\n",
    "    DFE0       = DFE(W_ff,W_fb)\n",
    "    est_msg    = DFE0.seq_out(rx_seq)\n",
    "    # msg_PAM4   = nearest_symbol(msg_PAM4)\n",
    "    Jmin       = np.square(msg_PAM4[:len(msg_PAM4)-Delta] - est_msg[Delta:]).mean()\n",
    "    print('N1 = {}, N2 = {}, Delta = {}'.format(N1,N2,Delta))\n",
    "    print('Jmin simulated   {:.4f}\\nJmin theoritical {:.4f}'.format(Jmin, sigma_I**2 - W_opt_flat @ P))\n",
    "    print('w_opt:',W_opt_flat)\n",
    "    print()"
   ]
  },
  {
   "cell_type": "markdown",
   "metadata": {
    "id": "jPFuVcnyIUFo"
   },
   "source": [
    "#C3"
   ]
  },
  {
   "cell_type": "markdown",
   "metadata": {
    "id": "sjug15IsXyyq"
   },
   "source": [
    "calculated Jmin(N,Delta) varying N1 from 1 to 9 and Delta from 0 to 10.\n",
    "\n",
    "since N1 = 1(memory less equalizer) is just scaling the signal it is not considered"
   ]
  },
  {
   "cell_type": "code",
   "execution_count": 20,
   "metadata": {
    "id": "9Gw4oMctILJS"
   },
   "outputs": [],
   "source": [
    "# N1+N2 = 10\n",
    "Delta_max = 10\n",
    "Jmin_DFE_arr = np.full(( 10,Delta_max ),fill_value=10.0,dtype=np.float)\n",
    "for N1 in range(1,10): #N1 from 1 to 9\n",
    "    N2 = 10 - N1       #N2 from 9 to 1\n",
    "    for Delta in range(Delta_max):\n",
    "        R,P        = R_fxn2(N1,N2,sigma_v2,f_chnl0), P_fxn2(N1,N2,Delta,f_chnl0)\n",
    "        R_inv      = np.linalg.inv(R)\n",
    "        W_opt      = np.matmul(R_inv,P)\n",
    "        W_opt_flat = W_opt.ravel()# flattened view of W_opt\n",
    "        tmp        = 1 - np.matmul(W_opt_flat,P)#sigma_I**2 - W_opt_flat @ P\n",
    "        tmp        = tmp if tmp>0 else 10# if Jmin < 0 set it 10(since -ve Jmin implies formula is invalid)\n",
    "        Jmin_DFE_arr[N1][Delta] = tmp"
   ]
  },
  {
   "cell_type": "code",
   "execution_count": 21,
   "metadata": {
    "colab": {
     "base_uri": "https://localhost:8080/",
     "height": 494
    },
    "id": "zkstBH4pKfSW",
    "outputId": "b2c05c5f-9f1a-4382-e269-d55ce5886b3a"
   },
   "outputs": [
    {
     "name": "stdout",
     "output_type": "stream",
     "text": [
      "0.17372072544483863\n",
      "[[1 2 3 4 5 6 7 8 9]\n",
      " [2 2 2 3 4 5 6 7 4]]\n",
      "[[1.         2.         3.         4.         5.         6.\n",
      "  7.         8.         9.        ]\n",
      " [0.57142857 0.3218126  0.18163147 0.17957867 0.17525337 0.17387811\n",
      "  0.17385976 0.17372073 0.21390243]]\n"
     ]
    },
    {
     "data": {
      "text/plain": [
       "<matplotlib.legend.Legend at 0x1590495fb70>"
      ]
     },
     "execution_count": 21,
     "metadata": {},
     "output_type": "execute_result"
    },
    {
     "data": {
      "image/png": "[encoded data removed]",
      "text/plain": [
       "<Figure size 936x360 with 2 Axes>"
      ]
     },
     "metadata": {
      "needs_background": "light"
     },
     "output_type": "display_data"
    }
   ],
   "source": [
    "print(Jmin_DFE_arr.min())\n",
    "N_arr = np.arange(10)\n",
    "print(np.vstack([N_arr,Jmin_DFE_arr.argmin(axis=1)])[:,1:])\n",
    "print(np.vstack([N_arr,Jmin_DFE_arr.min(axis=1)])[:,1:])\n",
    "\n",
    "plt.figure(figsize=(13,5))\n",
    "plt.subplot(121)\n",
    "plt.title('Jmin(N1,10-N2) = min over $\\Delta$ Jmin(N1,10-N1,$\\Delta$)')\n",
    "plt.axhline(y=Jmin_DFE_arr.min(),c='k',ls='--')\n",
    "plt.plot(N_arr[1:],Jmin_DFE_arr.min(axis=1)[1:])\n",
    "plt.grid()\n",
    "plt.xlabel('N1 - >')\n",
    "plt.ylabel('Jmin ->')\n",
    "plt.subplot(122)\n",
    "plt.title('$\\Delta$ that achieves Jmin')\n",
    "plt.plot(N_arr[1:],Jmin_DFE_arr.argmin(axis=1)[1:],label='Delta')\n",
    "# plt.plot(N_arr[1:],N_arr[1:]/2,label='N/2')\n",
    "plt.xlabel('N ->')\n",
    "plt.ylabel('$\\Delta ->$')\n",
    "plt.grid()\n",
    "plt.legend()"
   ]
  },
  {
   "cell_type": "code",
   "execution_count": 22,
   "metadata": {
    "colab": {
     "base_uri": "https://localhost:8080/"
    },
    "id": "PXdcYL0VbojL",
    "outputId": "0ac42ddd-3c12-4cf5-9d8e-c0a21836b26d"
   },
   "outputs": [
    {
     "name": "stdout",
     "output_type": "stream",
     "text": [
      "optimal filter for DFE is N1=8 N2=2 Delta=7 Jmin=0.17372072544483863\n",
      "\n"
     ]
    }
   ],
   "source": [
    "N1_Jmin = Jmin_DFE_arr.min(axis=1).argmin()\n",
    "Delta_N1_Jmin = Jmin_DFE_arr[N1_Jmin].argmin()\n",
    "print('optimal filter for DFE is N1={} N2={} Delta={} Jmin={}'.format(\n",
    "    N1_Jmin,10-N1_Jmin,Delta_N1_Jmin,Jmin_DFE_arr.min()))\n",
    "print()"
   ]
  },
  {
   "cell_type": "markdown",
   "metadata": {
    "id": "jSy-IaejY_SZ"
   },
   "source": [
    "From the above plots(left) we can see that Jmin(N1,10-N2) is minimum at N1 = 8,N2 = 2,\n",
    "\n",
    "value of Delta which minimises Jmin for N1 = 8 is 7\n",
    "\n",
    "**The optimal DFE filter for N1+N2 = 10 is N1=8 N2=2 Delta=7 Jmin=0.17372072544483863**"
   ]
  },
  {
   "cell_type": "markdown",
   "metadata": {
    "id": "t6bRL13GIMsy"
   },
   "source": [
    "#C4"
   ]
  },
  {
   "cell_type": "code",
   "execution_count": 23,
   "metadata": {
    "colab": {
     "base_uri": "https://localhost:8080/"
    },
    "id": "voKL5lG2dJON",
    "outputId": "5cfa0d61-9a96-455e-c87e-76ba84259e78"
   },
   "outputs": [
    {
     "name": "stdout",
     "output_type": "stream",
     "text": [
      "SER [0.62013481 0.58667347 0.55173207 0.51562062 0.47720909 0.43437738\n",
      " 0.39318573 0.34569383 0.29795192] \n",
      "accuracy [0.37986519 0.41332653 0.44826793 0.48437938 0.52279091 0.56562262\n",
      " 0.60681427 0.65430617 0.70204808]\n"
     ]
    }
   ],
   "source": [
    "N1, N2, Delta  = 8, 2, 7\n",
    "\n",
    "# SNR_arr   = np.logspace(0,16/10,9)\n",
    "SNR_arr     = 10**(np.arange(0,16.0001,2)/10)\n",
    "SER_DFE      = np.zeros(len(SNR_arr))\n",
    "\n",
    "sigma_v2_arr  = 1/SNR_arr\n",
    "sigma_v_arr   = np.sqrt(sigma_v2_arr)\n",
    "\n",
    "msg_PAM4 = PAM4gen(int(1e5),sigma_I=sigma_I)\n",
    "tx_seq   = channel_out(msg_PAM4, f_chnl0, init_pad)\n",
    "\n",
    "for ind,sigma_v2 in enumerate(sigma_v2_arr):\n",
    "    sigma_v    = np.sqrt(sigma_v2)\n",
    "    R,P        = R_fxn2(N1,N2,sigma_v2,f_chnl0), P_fxn2(N1,N2,Delta,f_chnl0)\n",
    "    R_inv      = np.linalg.inv(R)\n",
    "    W_opt      = R_inv@P\n",
    "    W_opt_flat = W_opt.ravel()# flattened view of W_opt\n",
    "    W_ff,W_fb  = np.hsplit(W_opt_flat,[N1])\n",
    "\n",
    "    rx_seq     = tx_seq + sigma_v*np.random.randn(len(msg_PAM4))\n",
    "\n",
    "    DFE0       = DFE(W_ff,W_fb)\n",
    "    est_msg    = DFE0.seq_out(rx_seq)\n",
    "    Jmin       = np.square(msg_PAM4[:len(msg_PAM4)-Delta] - est_msg[Delta:]).mean()\n",
    "\n",
    "    SER_DFE[ind] = 1 - accuracy(msg_PAM4[:len(msg_PAM4)-Delta], est_msg[Delta:])\n",
    "print('SER',SER_LE,'\\naccuracy',1-SER_LE)"
   ]
  },
  {
   "cell_type": "code",
   "execution_count": 24,
   "metadata": {
    "colab": {
     "base_uri": "https://localhost:8080/",
     "height": 372
    },
    "id": "yAf8fsKudI8C",
    "outputId": "73d7ff5c-0631-4f1e-cbf7-d635b873bb31"
   },
   "outputs": [
    {
     "data": {
      "text/plain": [
       "<matplotlib.legend.Legend at 0x15900fd33c8>"
      ]
     },
     "execution_count": 24,
     "metadata": {},
     "output_type": "execute_result"
    },
    {
     "data": {
      "image/png": "[encoded data removed]",
      "text/plain": [
       "<Figure size 432x360 with 1 Axes>"
      ]
     },
     "metadata": {
      "needs_background": "light"
     },
     "output_type": "display_data"
    }
   ],
   "source": [
    "plt.figure(figsize=(6,5))\n",
    "plt.title('figure 2: 1og10(SER) vs 10log10(SNR)')\n",
    "\n",
    "## plt.plot(10*np.log10(SNR_arr),SER_VA[3]*100, label='VA')\n",
    "## plt.plot(10*np.log10(SNR_arr),SER_LE*100,    label='LMMSE')\n",
    "## plt.plot(10*np.log10(SNR_arr),SER_DFE*100,   label='DFE')\n",
    "\n",
    "plt.plot(10*np.log10(SNR_arr),np.log10(SER_VA[3]),label='VA')\n",
    "plt.plot(10*np.log10(SNR_arr),np.log10(SER_LE)   ,label='LMMSE')\n",
    "plt.plot(10*np.log10(SNR_arr),np.log10(SER_DFE)  ,label='DFE')\n",
    "\n",
    "plt.xlabel('$10log_{10}(SNR)$')\n",
    "plt.ylabel('$log_{10}(SER)$')\n",
    "plt.grid()\n",
    "plt.legend()\n",
    "\n",
    "# plt.savefig('figure2')"
   ]
  },
  {
   "cell_type": "markdown",
   "metadata": {
    "id": "Z0SrdsN2coFj"
   },
   "source": [
    "#Observations DFE\n",
    "\n",
    "**Viterbi** with Delta = 30 **is better** than both LMMSE and DFE at all SNRs\n",
    "\n",
    "**At low SNR the performance of optimal LE and optimal DFE is almost same.**\n",
    "\n",
    "**At high SNR DFE is significantly better than LE** this is probably because of **less error propagation** (from nearest neighbour decisions)**at High SNR**\n",
    "\n",
    "since The nearest neighbour decision is more accurate at high SNR"
   ]
  },
  {
   "cell_type": "markdown",
   "metadata": {
    "id": "5aE7R-CU0HVr"
   },
   "source": [
    "#Bonus Question"
   ]
  },
  {
   "cell_type": "markdown",
   "metadata": {
    "id": "hrLcwHZkSBlj"
   },
   "source": [
    "10 tap LE   N = 10 Delta = 4\n",
    "\n",
    "10 tap DFE  N1 = 8, N2 = 2, Delta = 7"
   ]
  },
  {
   "cell_type": "markdown",
   "metadata": {
    "id": "wODhLUkhSejn"
   },
   "source": [
    "**Effective channel response**(from combining channel and Equalizer)"
   ]
  },
  {
   "cell_type": "code",
   "execution_count": 25,
   "metadata": {
    "colab": {
     "base_uri": "https://localhost:8080/",
     "height": 353
    },
    "id": "xJnDUZ1AaA1o",
    "outputId": "d3f936fd-5582-41bc-e4b2-e18322633479"
   },
   "outputs": [
    {
     "data": {
      "text/plain": [
       "[<matplotlib.lines.Line2D at 0x15902d625c0>]"
      ]
     },
     "execution_count": 25,
     "metadata": {},
     "output_type": "execute_result"
    },
    {
     "data": {
      "image/png": "[encoded data removed]",
      "text/plain": [
       "<Figure size 1008x360 with 2 Axes>"
      ]
     },
     "metadata": {
      "needs_background": "light"
     },
     "output_type": "display_data"
    }
   ],
   "source": [
    "Delta_LE       = 4\n",
    "N1, Delta_DFE  = 8, 7\n",
    "\n",
    "\n",
    "SNR = 10**(10/10)\n",
    "sigma_v2  = 1/SNR\n",
    "sigma_v   = np.sqrt(sigma_v2)\n",
    "\n",
    "R_LE,P_LE        = R_fxn(10,sigma_v2,f_chnl0),  P_fxn(10,Delta_LE,f_chnl0)\n",
    "W_opt_LE         = np.matmul(np.linalg.inv(R_LE),P_LE).ravel()\n",
    "\n",
    "R_DFE,P_DFE      = R_fxn2(N1,10-N1,sigma_v2,f_chnl0), P_fxn2(N1,10-N1,Delta_DFE,f_chnl0)\n",
    "W_opt_DFE        = np.matmul(np.linalg.inv(R_DFE),P_DFE).ravel()\n",
    "Wff, Wfb         = np.hsplit(W_opt_DFE,[N1])\n",
    "\n",
    "eff_res_LE       = np.convolve(f_chnl0, W_opt_LE)\n",
    "eff_res_DFE      = np.convolve(f_chnl0, Wff) \n",
    "\n",
    "kk  =  Delta_DFE + 1\n",
    "eff_res_DFE      = np.hstack(( eff_res_DFE,np.zeros(12-len(eff_res_DFE)) ))\n",
    "eff_res_DFE     -= np.hstack(( np.zeros(kk),Wfb,np.zeros(2 + N1 - kk) ))# removing post cursor ISI by subtracting Wfb \n",
    "\n",
    "plt.figure(figsize=(14,5))\n",
    "plt.subplot(121)\n",
    "plt.title('LE effective channel response')\n",
    "plt.plot(eff_res_LE,label='eff_LE')\n",
    "plt.subplot(122)\n",
    "plt.title('DFE effective channel response')\n",
    "plt.plot(eff_res_DFE,label='eff_DFE')\n",
    "# plt.legend()\n",
    "# plt.figure()\n",
    "# plt.title('eff_res_DFE - eff_res_LE')\n",
    "# plt.plot(eff_res_DFE - eff_res_LE)"
   ]
  },
  {
   "cell_type": "markdown",
   "metadata": {
    "id": "i8djxz9VVFqe"
   },
   "source": [
    "The post cursor ISI is very less for DFE because of FB"
   ]
  },
  {
   "cell_type": "markdown",
   "metadata": {
    "id": "SX-cjf4ZTg-N"
   },
   "source": [
    "**Residual Inter symbol Interference calculation**\n",
    "\n",
    "\n",
    "Residual ISI = **sum of square** of coefficients**(except cursor** i.e, the coefficient with highest magnitude**)** of the effective channel\n",
    "\n",
    "cursor is the coefficient with highest magnitude and it will be at **k = Delta**"
   ]
  },
  {
   "cell_type": "code",
   "execution_count": 26,
   "metadata": {
    "colab": {
     "base_uri": "https://localhost:8080/"
    },
    "id": "bnavl6W_H3Jc",
    "outputId": "3cd1b255-f7be-45ce-8d49-39ad7dcfec32"
   },
   "outputs": [
    {
     "name": "stdout",
     "output_type": "stream",
     "text": [
      "Residual ISI values are:\n",
      "eff_res_LE\tISI 0.1059923099919701\n",
      "eff_res_DFE\tISI 0.027764447085367894\n"
     ]
    }
   ],
   "source": [
    "print('Residual ISI values are:')\n",
    "for i in ['eff_res_LE', 'eff_res_DFE']:\n",
    "    tmp = eval(i).copy()\n",
    "    tmp[tmp == tmp.max()] = 0\n",
    "    # print(tmp)\n",
    "    # print(i,np.square(tmp).sum(),np.var(tmp),np.abs(tmp).sum(),(tmp).sum())\n",
    "    print('{}\\tISI {}'.format(i,np.square(tmp).sum()))"
   ]
  },
  {
   "cell_type": "markdown",
   "metadata": {
    "id": "XS75KG6VTcpu"
   },
   "source": [
    "**LE    ISI = 0.1059923099919701**\n",
    "\n",
    "**DFE   ISI =  0.027764447085367894**"
   ]
  }
 ],
 "metadata": {
  "colab": {
   "collapsed_sections": [
    "Z0SrdsN2coFj"
   ],
   "name": "EE4140sa2_v4.ipynb",
   "provenance": []
  },
  "kernelspec": {
   "display_name": "Python 3",
   "language": "python",
   "name": "python3"
  },
  "language_info": {
   "codemirror_mode": {
    "name": "ipython",
    "version": 3
   },
   "file_extension": ".py",
   "mimetype": "text/x-python",
   "name": "python",
   "nbconvert_exporter": "python",
   "pygments_lexer": "ipython3",
   "version": "3.6.8"
  }
 },
 "nbformat": 4,
 "nbformat_minor": 1
}
